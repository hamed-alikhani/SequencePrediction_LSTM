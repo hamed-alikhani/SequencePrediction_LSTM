{
  "nbformat": 4,
  "nbformat_minor": 0,
  "metadata": {
    "colab": {
      "name": "ImportLibraries_ImportData.ipynb",
      "provenance": []
    },
    "kernelspec": {
      "name": "python3",
      "display_name": "Python 3"
    },
    "language_info": {
      "name": "python"
    }
  },
  "cells": [
    {
      "cell_type": "code",
      "execution_count": null,
      "metadata": {
        "id": "6LFyEFVWtftL"
      },
      "outputs": [],
      "source": [
        "# Load LSTM and other required libraries\n",
        "import numpy as np\n",
        "import numpy\n",
        "from keras.models import Sequential\n",
        "from keras.layers import Dense\n",
        "from keras.layers import Dropout\n",
        "from keras.layers import LSTM\n",
        "from keras.callbacks import ModelCheckpoint\n",
        "from keras.utils import np_utils\n",
        "import sys\n",
        "\n",
        "\n",
        "\n",
        "#Load text data and convert to lowercases (part of the data is available in Github)\n",
        "filename = \"finalconcurrent.txt\"\n",
        "raw_text = open(filename, 'r', encoding='utf-8').read()\n",
        "raw_text = raw_text.lower()\n",
        "\n",
        "\n",
        "#Map unique characterss to integers\n",
        "chars = sorted(list(set(raw_text)))\n",
        "char_to_int = dict((c, i) for i, c in enumerate(chars))\n",
        "int_to_char = dict((i, c) for i, c in enumerate(chars))\n",
        "\n",
        "#compute number of characters\n",
        "n_chars = len(raw_text)\n",
        "n_vocab = len(chars)"
      ]
    }
  ]
}